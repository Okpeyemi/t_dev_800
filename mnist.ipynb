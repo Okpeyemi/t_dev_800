{
 "cells": [
  {
   "cell_type": "code",
   "execution_count": 1,
   "id": "86ef0087-b85d-4d1d-a76f-71a3a82e1b94",
   "metadata": {},
   "outputs": [],
   "source": [
    "import os\n",
    "os.environ[\"KERAS_BACKEND\"] = \"torch\""
   ]
  },
  {
   "cell_type": "code",
   "execution_count": 2,
   "id": "7b9438d8-4b6e-4069-b2c2-d2ff09b2668a",
   "metadata": {},
   "outputs": [
    {
     "ename": "ModuleNotFoundError",
     "evalue": "No module named 'keras'",
     "output_type": "error",
     "traceback": [
      "\u001b[31m---------------------------------------------------------------------------\u001b[39m",
      "\u001b[31mModuleNotFoundError\u001b[39m                       Traceback (most recent call last)",
      "\u001b[36mCell\u001b[39m\u001b[36m \u001b[39m\u001b[32mIn[2]\u001b[39m\u001b[32m, line 1\u001b[39m\n\u001b[32m----> \u001b[39m\u001b[32m1\u001b[39m \u001b[38;5;28;01mfrom\u001b[39;00m\u001b[38;5;250m \u001b[39m\u001b[34;01mkeras\u001b[39;00m\u001b[38;5;250m \u001b[39m\u001b[38;5;28;01mimport\u001b[39;00m datasets\n",
      "\u001b[31mModuleNotFoundError\u001b[39m: No module named 'keras'"
     ]
    }
   ],
   "source": [
    "from keras import datasets"
   ]
  },
  {
   "cell_type": "code",
   "execution_count": null,
   "id": "92d8baaa-5c08-4106-8c08-38e0acef489d",
   "metadata": {},
   "outputs": [],
   "source": [
    "class MNISTDataset:\n",
    "    def load(self):\n",
    "        (self.x_train, self.y_train), (self.x_test, self.y_test) = datasets.mnist.load_data()\n",
    "\n",
    "    def display(self, subset: str, pos : int):\n",
    "        return getattr(self, subset)[pos]"
   ]
  },
  {
   "cell_type": "code",
   "execution_count": null,
   "id": "b8b45ace-751a-4ef1-bbbd-0ada4afccda2",
   "metadata": {},
   "outputs": [],
   "source": [
    "df = MNISTDataset()"
   ]
  },
  {
   "cell_type": "code",
   "execution_count": null,
   "id": "25a94ff6-da7c-47ab-a146-83a4c207fda6",
   "metadata": {},
   "outputs": [],
   "source": [
    "df.load()"
   ]
  },
  {
   "cell_type": "code",
   "execution_count": null,
   "id": "4415c0a0-d086-46c2-a461-abf010ee66e5",
   "metadata": {},
   "outputs": [],
   "source": [
    "!pip install pandas seaborn"
   ]
  },
  {
   "cell_type": "code",
   "execution_count": null,
   "id": "a530c1fd-da5c-4c66-a438-46f33d53940b",
   "metadata": {},
   "outputs": [],
   "source": [
    "counts = np.unique_counts(df.y_train)"
   ]
  },
  {
   "cell_type": "code",
   "execution_count": null,
   "id": "05ca8175-3988-4c6b-b29a-51e0a9befba5",
   "metadata": {},
   "outputs": [],
   "source": [
    "import seaborn as sns"
   ]
  },
  {
   "cell_type": "code",
   "execution_count": null,
   "id": "eafd8d24-b673-4082-901a-ac1ff14dc934",
   "metadata": {},
   "outputs": [],
   "source": [
    "import pandas as pd"
   ]
  },
  {
   "cell_type": "code",
   "execution_count": null,
   "id": "b29d91e8-0f0f-4939-974e-70a02044b4cc",
   "metadata": {},
   "outputs": [],
   "source": [
    "counts = pd.DataFrame({\"digit\":counts.values, \"distribution\": counts.counts})"
   ]
  },
  {
   "cell_type": "code",
   "execution_count": null,
   "id": "15e68bb0-e231-4810-a6fe-5ef0fe233777",
   "metadata": {},
   "outputs": [],
   "source": [
    "counts"
   ]
  },
  {
   "cell_type": "code",
   "execution_count": null,
   "id": "75c3afe1-80a1-48bf-b561-5c67eed4b7a9",
   "metadata": {},
   "outputs": [],
   "source": [
    "sns.barplot(counts, x=\"digit\", y=\"distribution\", hue=\"distribution\")"
   ]
  },
  {
   "cell_type": "code",
   "execution_count": null,
   "id": "281cabea-eae9-45e0-be4f-ba8732169139",
   "metadata": {},
   "outputs": [],
   "source": [
    "df.display(\"x_train\", 0)"
   ]
  },
  {
   "cell_type": "code",
   "execution_count": null,
   "id": "2f2265dc-3686-47bc-a3c6-80526c4697ae",
   "metadata": {},
   "outputs": [],
   "source": [
    "import matplotlib.pyplot as plt"
   ]
  },
  {
   "cell_type": "code",
   "execution_count": null,
   "id": "c6b795c4-4952-430d-9cb6-0feee41764f7",
   "metadata": {},
   "outputs": [],
   "source": [
    "plt.imshow(df.display(\"x_train\", 4))"
   ]
  },
  {
   "cell_type": "code",
   "execution_count": null,
   "id": "21bec863-f936-40f4-aaea-466c66e91c57",
   "metadata": {},
   "outputs": [],
   "source": [
    "np.concatenate(df.x_train, df.y_train)"
   ]
  },
  {
   "cell_type": "code",
   "execution_count": null,
   "id": "db06e5e0-2d95-4b80-9e9f-4bf4037d01c3",
   "metadata": {},
   "outputs": [],
   "source": [
    "df.x_train.shape"
   ]
  },
  {
   "cell_type": "code",
   "execution_count": null,
   "id": "f17c1f42-80df-4c47-b8a5-50da9a0b6c6c",
   "metadata": {},
   "outputs": [],
   "source": [
    "np.split(df.x_train, np.array(counts.values))"
   ]
  },
  {
   "cell_type": "code",
   "execution_count": null,
   "id": "8d873b1b-6617-4cf4-ac5f-28b22a91cd44",
   "metadata": {},
   "outputs": [],
   "source": []
  }
 ],
 "metadata": {
  "kernelspec": {
   "display_name": "Python 3 (ipykernel)",
   "language": "python",
   "name": "python3"
  },
  "language_info": {
   "codemirror_mode": {
    "name": "ipython",
    "version": 3
   },
   "file_extension": ".py",
   "mimetype": "text/x-python",
   "name": "python",
   "nbconvert_exporter": "python",
   "pygments_lexer": "ipython3",
   "version": "3.13.2"
  }
 },
 "nbformat": 4,
 "nbformat_minor": 5
}
