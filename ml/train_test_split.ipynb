{
 "cells": [
  {
   "cell_type": "code",
   "execution_count": 1,
   "id": "5e705303-39dd-4a5f-a6bb-6d16e4cbee59",
   "metadata": {},
   "outputs": [
    {
     "name": "stderr",
     "output_type": "stream",
     "text": [
      "2025-05-14 22:47:58.178343: I tensorflow/core/platform/cpu_feature_guard.cc:193] This TensorFlow binary is optimized with oneAPI Deep Neural Network Library (oneDNN) to use the following CPU instructions in performance-critical operations:  SSE4.1 SSE4.2 AVX AVX2 AVX512F AVX512_VNNI FMA\n",
      "To enable them in other operations, rebuild TensorFlow with the appropriate compiler flags.\n",
      "2025-05-14 22:47:58.464691: I tensorflow/core/util/port.cc:104] oneDNN custom operations are on. You may see slightly different numerical results due to floating-point round-off errors from different computation orders. To turn them off, set the environment variable `TF_ENABLE_ONEDNN_OPTS=0`.\n"
     ]
    }
   ],
   "source": [
    "import os\n",
    "import numpy as np\n",
    "from tensorflow.keras.preprocessing.image import load_img, img_to_array\n",
    "from sklearn.model_selection import train_test_split\n",
    "\n",
    "# Chemin vers le dossier contenant 'Pneumonia' et 'Normal'\n",
    "data_dir = './chest_Xray/train'  # ou tout ton dataset si tu veux\n",
    "\n",
    "# Initialiser les listes\n",
    "images = []\n",
    "labels = []"
   ]
  },
  {
   "cell_type": "code",
   "execution_count": 2,
   "id": "1379221a-4c62-4349-a746-acfdf1a070e2",
   "metadata": {},
   "outputs": [
    {
     "name": "stdout",
     "output_type": "stream",
     "text": [
      "Fichier non valide ignoré : ./chest_Xray/train/PNEUMONIA/.DS_Store\n",
      "Fichier non valide ignoré : ./chest_Xray/train/NORMAL/.DS_Store\n"
     ]
    }
   ],
   "source": [
    "from PIL import UnidentifiedImageError\n",
    "\n",
    "for label in ['PNEUMONIA', 'NORMAL']:\n",
    "    path = os.path.join(data_dir, label)\n",
    "    for img_name in os.listdir(path):\n",
    "        img_path = os.path.join(path, img_name)\n",
    "        try:\n",
    "            img = load_img(img_path, target_size=(150, 150))\n",
    "            img = img_to_array(img) / 255.0  # Normalisation entre 0 et 1\n",
    "            images.append(img)\n",
    "            labels.append(1 if label == 'PNEUMONIA' else 0)\n",
    "        except UnidentifiedImageError:\n",
    "            print(f\"Fichier non valide ignoré : {img_path}\")\n",
    "\n",
    "\n",
    "# Transformer en tableau numpy\n",
    "images = np.array(images)\n",
    "labels = np.array(labels)"
   ]
  },
  {
   "cell_type": "code",
   "execution_count": 3,
   "id": "395315af-1f66-4967-9634-7ea5c0caf628",
   "metadata": {
    "scrolled": true
   },
   "outputs": [
    {
     "name": "stdout",
     "output_type": "stream",
     "text": [
      "Train : (4172, 150, 150, 3), Test : (1044, 150, 150, 3)\n"
     ]
    }
   ],
   "source": [
    "# Split classique\n",
    "X_train, X_test, y_train, y_test = train_test_split(images, labels, test_size=0.2, random_state=42, stratify=labels)\n",
    "\n",
    "print(f\"Train : {X_train.shape}, Test : {X_test.shape}\")"
   ]
  },
  {
   "cell_type": "code",
   "execution_count": 4,
   "id": "b7552de9-48e6-4123-a7a0-db306fd48d3d",
   "metadata": {},
   "outputs": [
    {
     "name": "stderr",
     "output_type": "stream",
     "text": [
      "2025-05-14 22:49:02.078962: I tensorflow/core/platform/cpu_feature_guard.cc:193] This TensorFlow binary is optimized with oneAPI Deep Neural Network Library (oneDNN) to use the following CPU instructions in performance-critical operations:  SSE4.1 SSE4.2 AVX AVX2 AVX512F AVX512_VNNI FMA\n",
      "To enable them in other operations, rebuild TensorFlow with the appropriate compiler flags.\n"
     ]
    },
    {
     "name": "stdout",
     "output_type": "stream",
     "text": [
      "Epoch 1/5\n",
      "131/131 [==============================] - 37s 270ms/step - loss: 0.2721 - accuracy: 0.8809 - val_loss: 0.1299 - val_accuracy: 0.9569\n",
      "Epoch 2/5\n",
      "131/131 [==============================] - 37s 281ms/step - loss: 0.1091 - accuracy: 0.9590 - val_loss: 0.1006 - val_accuracy: 0.9693\n",
      "Epoch 3/5\n",
      "131/131 [==============================] - 36s 275ms/step - loss: 0.0839 - accuracy: 0.9703 - val_loss: 0.0775 - val_accuracy: 0.9741\n",
      "Epoch 4/5\n",
      "131/131 [==============================] - 36s 278ms/step - loss: 0.0691 - accuracy: 0.9753 - val_loss: 0.1075 - val_accuracy: 0.9646\n",
      "Epoch 5/5\n",
      "131/131 [==============================] - 37s 281ms/step - loss: 0.0613 - accuracy: 0.9760 - val_loss: 0.0855 - val_accuracy: 0.9761\n"
     ]
    }
   ],
   "source": [
    "from tensorflow.keras import models, layers\n",
    "\n",
    "model = models.Sequential([\n",
    "    layers.Conv2D(32, (3, 3), activation='relu', input_shape=(150, 150, 3)),\n",
    "    layers.MaxPooling2D((2, 2)),\n",
    "    layers.Conv2D(64, (3, 3), activation='relu'),\n",
    "    layers.MaxPooling2D((2, 2)),\n",
    "    layers.Conv2D(128, (3, 3), activation='relu'),\n",
    "    layers.MaxPooling2D((2, 2)),\n",
    "    layers.Flatten(),\n",
    "    layers.Dense(64, activation='relu'),\n",
    "    layers.Dense(1, activation='sigmoid')\n",
    "])\n",
    "\n",
    "model.compile(optimizer='adam', loss='binary_crossentropy', metrics=['accuracy'])\n",
    "\n",
    "# 5. Entraîner le modèle\n",
    "history = model.fit(X_train, y_train, epochs=5, batch_size=32, validation_data=(X_test, y_test))"
   ]
  },
  {
   "cell_type": "code",
   "execution_count": 5,
   "id": "652ba81f-e3da-46dd-97ba-e13c6362ae68",
   "metadata": {},
   "outputs": [
    {
     "name": "stdout",
     "output_type": "stream",
     "text": [
      "33/33 [==============================] - 4s 120ms/step\n",
      "Matrice de confusion :\n",
      " [[253  15]\n",
      " [ 10 766]]\n",
      "Sensitivity (Recall): 0.99\n",
      "Precision: 0.98\n",
      "Specificity: 0.94\n"
     ]
    }
   ],
   "source": [
    "# Prédire\n",
    "predictions = model.predict(X_test)\n",
    "predicted_classes = (predictions > 0.5).astype(\"int32\")\n",
    "\n",
    "# Calculer les métriques\n",
    "from sklearn.metrics import confusion_matrix\n",
    "\n",
    "cm = confusion_matrix(y_test, predicted_classes)\n",
    "print(\"Matrice de confusion :\\n\", cm)\n",
    "\n",
    "TN, FP, FN, TP = cm.ravel()\n",
    "\n",
    "sensitivity = TP / (TP + FN)\n",
    "precision = TP / (TP + FP)\n",
    "specificity = TN / (TN + FP)\n",
    "\n",
    "print(f\"Sensitivity (Recall): {sensitivity:.2f}\")\n",
    "print(f\"Precision: {precision:.2f}\")\n",
    "print(f\"Specificity: {specificity:.2f}\")\n"
   ]
  },
  {
   "cell_type": "code",
   "execution_count": 6,
   "id": "ff9334c7-1d2b-4427-9485-12f90f039f4a",
   "metadata": {},
   "outputs": [
    {
     "data": {
      "image/png": "[encoded data removed]",
      "text/plain": [
       "<Figure size 640x480 with 1 Axes>"
      ]
     },
     "metadata": {},
     "output_type": "display_data"
    }
   ],
   "source": [
    "import matplotlib.pyplot as plt\n",
    "\n",
    "plt.plot(history.history['loss'], label='Train Loss')\n",
    "plt.plot(history.history['val_loss'], label='Validation Loss')\n",
    "plt.legend()\n",
    "plt.show()"
   ]
  },
  {
   "cell_type": "code",
   "execution_count": null,
   "id": "d4b6743c-b5d7-4275-a1b9-06380aa6d752",
   "metadata": {},
   "outputs": [
    {
     "name": "stderr",
     "output_type": "stream",
     "text": [
      "2025-05-14 22:52:13.529012: I tensorflow/core/grappler/devices.cc:75] Number of eligible GPUs (core count >= 8, compute capability >= 0.0): 0 (Note: TensorFlow was not compiled with CUDA or ROCm support)\n",
      "2025-05-14 22:52:13.529771: I tensorflow/core/grappler/clusters/single_machine.cc:358] Starting new session\n",
      "2025-05-14 22:52:14.310480: I tensorflow/core/grappler/devices.cc:75] Number of eligible GPUs (core count >= 8, compute capability >= 0.0): 0 (Note: TensorFlow was not compiled with CUDA or ROCm support)\n",
      "2025-05-14 22:52:14.310641: I tensorflow/core/grappler/clusters/single_machine.cc:358] Starting new session\n"
     ]
    },
    {
     "name": "stdout",
     "output_type": "stream",
     "text": [
      "Modèle exporté avec succès vers /home/adk/Documents/Machine_Learning/pneumonia_model.onnx\n",
      "Le modèle ONNX a été vérifié et est valide!\n"
     ]
    }
   ],
   "source": [
    "import os\n",
    "import tensorflow as tf\n",
    "import tf2onnx\n",
    "import onnx\n",
    "import numpy as np\n",
    "\n",
    "\n",
    "def export_keras_to_onnx(model, sample_input, file_path=\"model.onnx\"):\n",
    "    \"\"\"\n",
    "    Exporte un modèle Keras vers ONNX\n",
    "    \n",
    "    Parameters:\n",
    "    model: Modèle Keras compilé et entraîné\n",
    "    sample_input: Exemple d'entrée (un petit échantillon de X_test)\n",
    "    file_path: Chemin où sauvegarder le fichier ONNX\n",
    "    \"\"\"\n",
    "\n",
    "    input_shape = model.input_shape[1:]\n",
    "    \n",
    "    spec = (tf.TensorSpec((None, *input_shape), tf.float32, name=\"input\"),)\n",
    "    \n",
    "    model_proto, _ = tf2onnx.convert.from_keras(model, input_signature=spec, opset=12)\n",
    "    \n",
    "    onnx.save(model_proto, file_path)\n",
    "    print(f\"Modèle exporté avec succès vers {file_path}\")\n",
    "     \n",
    "    try:\n",
    "        onnx_model = onnx.load(file_path)\n",
    "        onnx.checker.check_model(onnx_model)\n",
    "        print(\"Le modèle ONNX a été vérifié et est valide!\")\n",
    "    except Exception as e:\n",
    "        print(f\"Erreur lors de la vérification du modèle ONNX: {e}\")\n",
    "\n",
    "#Créer le chemin complet avec le répertoire actuel\n",
    "current_dir = os.getcwd()\n",
    "output_path = os.path.join(current_dir, \"pneumonia_model.onnx\")\n",
    "\n",
    "if 'X_test' not in globals():\n",
    "    sample_input = np.zeros((1, 150, 150, 3), dtype=np.float32)  \n",
    "else:\n",
    "    sample_input = X_test[:1] \n",
    "\n",
    "#Exportation du modèle\n",
    "export_keras_to_onnx(model, sample_input, output_path)"
   ]
  },
  {
   "cell_type": "code",
   "execution_count": null,
   "id": "1c802e00-62f4-40ac-b6e4-432210086d8f",
   "metadata": {},
   "outputs": [],
   "source": []
  },
  {
   "cell_type": "code",
   "execution_count": null,
   "id": "34abf5b0-6460-4121-8f03-253eb0d9eeea",
   "metadata": {},
   "outputs": [],
   "source": []
  }
 ],
 "metadata": {
  "kernelspec": {
   "display_name": "Python 3 (ipykernel)",
   "language": "python",
   "name": "python3"
  },
  "language_info": {
   "codemirror_mode": {
    "name": "ipython",
    "version": 3
   },
   "file_extension": ".py",
   "mimetype": "text/x-python",
   "name": "python",
   "nbconvert_exporter": "python",
   "pygments_lexer": "ipython3",
   "version": "3.8.18"
  }
 },
 "nbformat": 4,
 "nbformat_minor": 5
}
